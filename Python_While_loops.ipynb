{
 "cells": [
  {
   "cell_type": "code",
   "execution_count": 33,
   "id": "310174a3-bea3-4cb3-a3ce-d41543a0dee9",
   "metadata": {},
   "outputs": [
    {
     "name": "stdout",
     "output_type": "stream",
     "text": [
      "1\n",
      "2\n",
      "3\n",
      "4\n",
      "5\n",
      "6\n",
      "7\n",
      "8\n",
      "9\n",
      "10\n"
     ]
    }
   ],
   "source": [
    "#1.write a program that prints numbers from 1 to 10\n",
    "i = 10\n",
    "j = 1\n",
    "while j <= 10:\n",
    "    print(j)\n",
    "    j+=1"
   ]
  },
  {
   "cell_type": "code",
   "execution_count": 1,
   "id": "05422b3c-c4fa-400c-a830-d1d589ad18ab",
   "metadata": {},
   "outputs": [
    {
     "name": "stdout",
     "output_type": "stream",
     "text": [
      "2\n",
      "4\n",
      "6\n",
      "8\n",
      "10\n",
      "12\n",
      "14\n",
      "16\n",
      "18\n",
      "20\n"
     ]
    }
   ],
   "source": [
    "#2.write a program to print even numbers between 1 to 20\n",
    "i = 20\n",
    "j = 1\n",
    "while j<=i :\n",
    "    if j%2 == 0:\n",
    "        print(j)\n",
    "    j+=1"
   ]
  },
  {
   "cell_type": "code",
   "execution_count": 14,
   "id": "da79a47f-8b3a-47d3-8187-4fa378952001",
   "metadata": {},
   "outputs": [
    {
     "name": "stdout",
     "output_type": "stream",
     "text": [
      "10\n",
      "9\n",
      "8\n",
      "7\n",
      "6\n",
      "5\n",
      "4\n",
      "3\n",
      "2\n",
      "1\n"
     ]
    }
   ],
   "source": [
    "#3.write a while loop to print numbers in reverse order from 10 to 1\n",
    "count = 10\n",
    "while count > 0 :\n",
    "    print(count)\n",
    "    count-=1"
   ]
  },
  {
   "cell_type": "code",
   "execution_count": 15,
   "id": "f2d2bd12-1b13-4f4d-918b-175c6789d5bd",
   "metadata": {},
   "outputs": [
    {
     "name": "stdout",
     "output_type": "stream",
     "text": [
      "3\n",
      "6\n",
      "9\n",
      "12\n",
      "15\n",
      "18\n",
      "21\n",
      "24\n",
      "27\n",
      "30\n"
     ]
    }
   ],
   "source": [
    "#4.Print first 10 multiples of 3\n",
    "a = 30\n",
    "b = 3\n",
    "while b <= a:\n",
    "    print(b)\n",
    "    b+=3"
   ]
  },
  {
   "cell_type": "code",
   "execution_count": 20,
   "id": "265de9f5-dc25-4d0c-be18-7e265ee7379f",
   "metadata": {},
   "outputs": [
    {
     "name": "stdout",
     "output_type": "stream",
     "text": [
      "55\n"
     ]
    }
   ],
   "source": [
    "#5.Find the sum of first 10 natural numbers\n",
    "n = 10\n",
    "sum_natural = 0\n",
    "while n > 0:\n",
    "    sum_natural=n+sum_natural\n",
    "    n-=1\n",
    "print(sum_natural)"
   ]
  },
  {
   "cell_type": "code",
   "execution_count": 1,
   "id": "86d861d0-b178-419b-9469-b67034d39d9b",
   "metadata": {},
   "outputs": [
    {
     "name": "stdout",
     "output_type": "stream",
     "text": [
      "Hello, World!\n",
      "Hello, World!\n",
      "Hello, World!\n",
      "Hello, World!\n",
      "Hello, World!\n"
     ]
    }
   ],
   "source": [
    "#6.print 5 times \"Hello world!\" using while loops\n",
    "count = 1\n",
    "while count <= 5:\n",
    "    print(\"Hello, World!\")\n",
    "    count+=1"
   ]
  },
  {
   "cell_type": "code",
   "execution_count": 17,
   "id": "40ac2b7c-9519-49b6-a7e4-f5465f853fda",
   "metadata": {},
   "outputs": [
    {
     "name": "stdout",
     "output_type": "stream",
     "text": [
      "49,47,45,43,41,39,37,35,33,31,29,27,25,23,21,19,17,15,13,11,9,7,5,3,1,"
     ]
    }
   ],
   "source": [
    "#7.print all odd numbers between 1-50\n",
    "num = 50\n",
    "while num > 0 : #Reverse loop method\n",
    "    num-=1\n",
    "    if num%2 != 0 :\n",
    "        print(num,end=\",\")"
   ]
  },
  {
   "cell_type": "code",
   "execution_count": 16,
   "id": "810c6763-c922-4055-ba3e-2ce3c6ed4e17",
   "metadata": {},
   "outputs": [
    {
     "name": "stdout",
     "output_type": "stream",
     "text": [
      "1,3,5,7,9,11,13,15,17,19,21,23,25,27,29,31,33,35,37,39,41,43,45,47,49,"
     ]
    }
   ],
   "source": [
    "num = 50\n",
    "odd_num = 0\n",
    "while odd_num < num :\n",
    "    odd_num+=1\n",
    "    if odd_num%2 != 0:\n",
    "        print(odd_num,end=\",\")"
   ]
  },
  {
   "cell_type": "code",
   "execution_count": 6,
   "id": "c05e7e2c-f90e-4285-9465-e05a6e4c9b50",
   "metadata": {},
   "outputs": [
    {
     "name": "stdin",
     "output_type": "stream",
     "text": [
      "Enter ur number 5\n"
     ]
    },
    {
     "name": "stdout",
     "output_type": "stream",
     "text": [
      "Factorial= 1\n",
      "Factorial= 2\n",
      "Factorial= 6\n",
      "Factorial= 24\n",
      "Factorial= 120\n"
     ]
    }
   ],
   "source": [
    "#8.write a program to write a factorial of a number\n",
    "user_input = int(input(\"Enter ur number\"))\n",
    "k = 1\n",
    "factorial = 1\n",
    "while k <= user_input :\n",
    "    factorial*=k\n",
    "    k+=1\n",
    "print(\"Factorial=\",factorial)"
   ]
  },
  {
   "cell_type": "code",
   "execution_count": 1,
   "id": "a193f32f-8571-402e-88b0-0592064fff39",
   "metadata": {},
   "outputs": [
    {
     "name": "stdin",
     "output_type": "stream",
     "text": [
      "Enter ur number 5\n"
     ]
    },
    {
     "name": "stdout",
     "output_type": "stream",
     "text": [
      "Factorial= 120\n"
     ]
    }
   ],
   "source": [
    "user_input = int(input(\"Enter ur number\"))\n",
    "factorial = 1\n",
    "while user_input > 0:\n",
    "    factorial*=user_input\n",
    "    user_input-=1\n",
    "print(\"Factorial=\",factorial)"
   ]
  },
  {
   "cell_type": "code",
   "execution_count": 3,
   "id": "f230b4ff-d3f2-49f4-989b-7cae0532d3ee",
   "metadata": {},
   "outputs": [
    {
     "name": "stdout",
     "output_type": "stream",
     "text": [
      "2550\n"
     ]
    }
   ],
   "source": [
    "#9.sum of all even numbers between 1-100\n",
    "i=0\n",
    "k=0\n",
    "while i < 100:\n",
    "    i+=1\n",
    "    if i%2 == 0:\n",
    "        k+=i\n",
    "print(k)"
   ]
  },
  {
   "cell_type": "code",
   "execution_count": 7,
   "id": "1ba550bb-d03c-448c-a87c-6506289273cb",
   "metadata": {},
   "outputs": [
    {
     "name": "stdin",
     "output_type": "stream",
     "text": [
      "Enter anything 5\n"
     ]
    },
    {
     "name": "stdout",
     "output_type": "stream",
     "text": [
      "You Entered: 5\n"
     ]
    },
    {
     "name": "stdin",
     "output_type": "stream",
     "text": [
      "Enter anything 4\n"
     ]
    },
    {
     "name": "stdout",
     "output_type": "stream",
     "text": [
      "You Entered: 4\n"
     ]
    },
    {
     "name": "stdin",
     "output_type": "stream",
     "text": [
      "Enter anything 4\n"
     ]
    },
    {
     "name": "stdout",
     "output_type": "stream",
     "text": [
      "You Entered: 4\n"
     ]
    },
    {
     "name": "stdin",
     "output_type": "stream",
     "text": [
      "Enter anything 5\n"
     ]
    },
    {
     "name": "stdout",
     "output_type": "stream",
     "text": [
      "You Entered: 5\n"
     ]
    },
    {
     "name": "stdin",
     "output_type": "stream",
     "text": [
      "Enter anything stop\n"
     ]
    },
    {
     "name": "stdout",
     "output_type": "stream",
     "text": [
      "Stopping...\n"
     ]
    }
   ],
   "source": [
    "#10.Asks the user for input and stops when the user enters stop\n",
    "while True:\n",
    "    user_input = input(\"Enter anything\")\n",
    "    if user_input.lower() == \"stop\":\n",
    "        print(\"Stopping...\")\n",
    "        break\n",
    "    else:\n",
    "        print(f\"You Entered: {user_input}\")"
   ]
  },
  {
   "cell_type": "code",
   "execution_count": null,
   "id": "0dfbb711-d245-4830-b98d-16eec9b8517c",
   "metadata": {},
   "outputs": [],
   "source": []
  }
 ],
 "metadata": {
  "kernelspec": {
   "display_name": "Python 3 (ipykernel)",
   "language": "python",
   "name": "python3"
  },
  "language_info": {
   "codemirror_mode": {
    "name": "ipython",
    "version": 3
   },
   "file_extension": ".py",
   "mimetype": "text/x-python",
   "name": "python",
   "nbconvert_exporter": "python",
   "pygments_lexer": "ipython3",
   "version": "3.12.7"
  }
 },
 "nbformat": 4,
 "nbformat_minor": 5
}
